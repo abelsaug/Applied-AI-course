{
 "cells": [
  {
   "cell_type": "markdown",
   "metadata": {},
   "source": [
    "# Dependency-Based Parsing"
   ]
  },
  {
   "cell_type": "code",
   "execution_count": 2,
   "metadata": {},
   "outputs": [
    {
     "name": "stdout",
     "output_type": "stream",
     "text": [
      "[]<---The[]--->[]\n",
      "--------\n",
      "[]<---brown[]--->[]\n",
      "--------\n",
      "[]<---fox[]--->[]\n",
      "--------\n",
      "[]<---is[]--->[]\n",
      "--------\n",
      "[]<---quick[]--->[]\n",
      "--------\n",
      "[]<---and[]--->[]\n",
      "--------\n",
      "[]<---he[]--->[]\n",
      "--------\n",
      "[]<---is[]--->[]\n",
      "--------\n",
      "[]<---jumping[]--->[]\n",
      "--------\n",
      "[]<---over[]--->[]\n",
      "--------\n",
      "[]<---the[]--->[]\n",
      "--------\n",
      "[]<---lazy[]--->[]\n",
      "--------\n",
      "[]<---dog[]--->[]\n",
      "--------\n"
     ]
    }
   ],
   "source": [
    "# -*- coding: utf-8 -*-\n",
    "\"\"\"\n",
    "Created on Tue Aug 16 04:25:12 2016\n",
    "\n",
    "@author: DIP\n",
    "\"\"\"\n",
    "\n",
    "\n",
    "sentence = 'The brown fox is quick and he is jumping over the lazy dog'\n",
    "\n",
    "from spacy.lang.en import English\n",
    "parser = English()\n",
    "parsed_sent = parser(unicode(sentence))\n",
    "\n",
    "dependency_pattern = '{left}<---{word}[{w_type}]--->{right}\\n--------'\n",
    "for token in parsed_sent:\n",
    "    print dependency_pattern.format(word=token.orth_, \n",
    "                                  w_type=token.dep_,\n",
    "                                  left=[t.orth_ \n",
    "                                            for t \n",
    "                                            in token.lefts],\n",
    "                                  right=[t.orth_ \n",
    "                                             for t \n",
    "                                             in token.rights])\n",
    "                                             \n"
   ]
  },
  {
   "cell_type": "code",
   "execution_count": 3,
   "metadata": {},
   "outputs": [
    {
     "ename": "LookupError",
     "evalue": "Could not find stanford-parser\\.jar jar file at C:/Software/StanfordNLP/stanford-parser-full-2016-10-31/stanford-parser.jar",
     "output_type": "error",
     "traceback": [
      "\u001b[0;31m---------------------------------------------------------------------------\u001b[0m",
      "\u001b[0;31mLookupError\u001b[0m                               Traceback (most recent call last)",
      "\u001b[0;32m<ipython-input-3-6f4c8fbc669c>\u001b[0m in \u001b[0;36m<module>\u001b[0;34m()\u001b[0m\n\u001b[1;32m     11\u001b[0m \u001b[0;34m\u001b[0m\u001b[0m\n\u001b[1;32m     12\u001b[0m sdp = StanfordDependencyParser(path_to_jar='C:/Software/StanfordNLP/stanford-parser-full-2016-10-31/stanford-parser.jar',\n\u001b[0;32m---> 13\u001b[0;31m                    path_to_models_jar='C:/Software/StanfordNLP/stanford-parser-full-2016-10-31/stanford-parser-3.7.0-models.jar')\n\u001b[0m\u001b[1;32m     14\u001b[0m \u001b[0;34m\u001b[0m\u001b[0m\n\u001b[1;32m     15\u001b[0m \u001b[0mresult\u001b[0m \u001b[0;34m=\u001b[0m \u001b[0mlist\u001b[0m\u001b[0;34m(\u001b[0m\u001b[0msdp\u001b[0m\u001b[0;34m.\u001b[0m\u001b[0mraw_parse\u001b[0m\u001b[0;34m(\u001b[0m\u001b[0msentence\u001b[0m\u001b[0;34m)\u001b[0m\u001b[0;34m)\u001b[0m\u001b[0;34m\u001b[0m\u001b[0m\n",
      "\u001b[0;32m/usr/local/lib/python2.7/dist-packages/nltk/parse/stanford.pyc\u001b[0m in \u001b[0;36m__init__\u001b[0;34m(self, path_to_jar, path_to_models_jar, model_path, encoding, verbose, java_options, corenlp_options)\u001b[0m\n\u001b[1;32m     50\u001b[0m                 \u001b[0mverbose\u001b[0m\u001b[0;34m=\u001b[0m\u001b[0mverbose\u001b[0m\u001b[0;34m,\u001b[0m \u001b[0mis_regex\u001b[0m\u001b[0;34m=\u001b[0m\u001b[0mTrue\u001b[0m\u001b[0;34m\u001b[0m\u001b[0m\n\u001b[1;32m     51\u001b[0m             ),\n\u001b[0;32m---> 52\u001b[0;31m             \u001b[0mkey\u001b[0m\u001b[0;34m=\u001b[0m\u001b[0;32mlambda\u001b[0m \u001b[0mmodel_path\u001b[0m\u001b[0;34m:\u001b[0m \u001b[0mos\u001b[0m\u001b[0;34m.\u001b[0m\u001b[0mpath\u001b[0m\u001b[0;34m.\u001b[0m\u001b[0mdirname\u001b[0m\u001b[0;34m(\u001b[0m\u001b[0mmodel_path\u001b[0m\u001b[0;34m)\u001b[0m\u001b[0;34m\u001b[0m\u001b[0m\n\u001b[0m\u001b[1;32m     53\u001b[0m         )\n\u001b[1;32m     54\u001b[0m \u001b[0;34m\u001b[0m\u001b[0m\n",
      "\u001b[0;32m/usr/local/lib/python2.7/dist-packages/nltk/__init__.pyc\u001b[0m in \u001b[0;36mfind_jar_iter\u001b[0;34m(name_pattern, path_to_jar, env_vars, searchpath, url, verbose, is_regex)\u001b[0m\n\u001b[1;32m    635\u001b[0m         \u001b[0;32melse\u001b[0m\u001b[0;34m:\u001b[0m\u001b[0;34m\u001b[0m\u001b[0m\n\u001b[1;32m    636\u001b[0m             raise LookupError('Could not find %s jar file at %s' %\n\u001b[0;32m--> 637\u001b[0;31m                             (name_pattern, path_to_jar))\n\u001b[0m\u001b[1;32m    638\u001b[0m \u001b[0;34m\u001b[0m\u001b[0m\n\u001b[1;32m    639\u001b[0m     \u001b[0;31m# Check environment variables\u001b[0m\u001b[0;34m\u001b[0m\u001b[0;34m\u001b[0m\u001b[0m\n",
      "\u001b[0;31mLookupError\u001b[0m: Could not find stanford-parser\\.jar jar file at C:/Software/StanfordNLP/stanford-parser-full-2016-10-31/stanford-parser.jar"
     ]
    }
   ],
   "source": [
    "# set java path\n",
    "import os\n",
    "java_path = r'C:\\Program Files\\Java\\jdk1.8.0_144\\bin\\java.exe'\n",
    "# java_path = r'C:\\Program Files\\Java\\jdk1.8.0_102\\bin\\java.exe'\n",
    "\n",
    "os.environ['JAVAHOME'] = java_path\n",
    "                                             \n",
    "from nltk.parse.stanford import StanfordDependencyParser\n",
    "# sdp = StanfordDependencyParser(path_to_jar='E:/stanford/stanford-parser-full-2015-04-20/stanford-parser.jar',\n",
    "#                                path_to_models_jar='E:/stanford/stanford-parser-full-2015-04-20/stanford-parser-3.5.2-models.jar')\n",
    "\n",
    "sdp = StanfordDependencyParser(path_to_jar='C:/Software/StanfordNLP/stanford-parser-full-2016-10-31/stanford-parser.jar',\n",
    "                   path_to_models_jar='C:/Software/StanfordNLP/stanford-parser-full-2016-10-31/stanford-parser-3.7.0-models.jar')\n",
    "\n",
    "result = list(sdp.raw_parse(sentence))\n",
    "\n",
    "result[0]\n",
    "\n",
    "[item for item in result[0].triples()]\n",
    "\n",
    "dep_tree = [parse.tree() for parse in result][0]\n"
   ]
  },
  {
   "cell_type": "code",
   "execution_count": 3,
   "metadata": {},
   "outputs": [
    {
     "name": "stdout",
     "output_type": "stream",
     "text": [
      "(quick (fox The brown) is and (jumping he is (dog over the lazy)))\n"
     ]
    }
   ],
   "source": [
    "print dep_tree\n"
   ]
  },
  {
   "cell_type": "code",
   "execution_count": 4,
   "metadata": {
    "collapsed": true
   },
   "outputs": [],
   "source": [
    "dep_tree.draw()\n"
   ]
  },
  {
   "cell_type": "code",
   "execution_count": 5,
   "metadata": {
    "collapsed": true
   },
   "outputs": [],
   "source": [
    "import nltk\n",
    "tokens = nltk.word_tokenize(sentence)\n",
    "\n",
    "dependency_rules = \"\"\"\n",
    "'fox' -> 'The' | 'brown'\n",
    "'quick' -> 'fox' | 'is' | 'and' | 'jumping'\n",
    "'jumping' -> 'he' | 'is' | 'dog'\n",
    "'dog' -> 'over' | 'the' | 'lazy'\n",
    "\"\"\"\n"
   ]
  },
  {
   "cell_type": "code",
   "execution_count": 6,
   "metadata": {},
   "outputs": [
    {
     "name": "stdout",
     "output_type": "stream",
     "text": [
      "Dependency grammar with 12 productions\n",
      "  'fox' -> 'The'\n",
      "  'fox' -> 'brown'\n",
      "  'quick' -> 'fox'\n",
      "  'quick' -> 'is'\n",
      "  'quick' -> 'and'\n",
      "  'quick' -> 'jumping'\n",
      "  'jumping' -> 'he'\n",
      "  'jumping' -> 'is'\n",
      "  'jumping' -> 'dog'\n",
      "  'dog' -> 'over'\n",
      "  'dog' -> 'the'\n",
      "  'dog' -> 'lazy'\n"
     ]
    }
   ],
   "source": [
    "dependency_grammar = nltk.grammar.DependencyGrammar.fromstring(dependency_rules)\n",
    "print dependency_grammar\n"
   ]
  },
  {
   "cell_type": "code",
   "execution_count": 7,
   "metadata": {},
   "outputs": [
    {
     "name": "stdout",
     "output_type": "stream",
     "text": [
      "(quick (fox The brown) is and (jumping he is (dog over the lazy)))\n"
     ]
    }
   ],
   "source": [
    "dp = nltk.ProjectiveDependencyParser(dependency_grammar)\n",
    "res = [item for item in dp.parse(tokens)]\n",
    "tree = res[0] \n",
    "print tree\n"
   ]
  },
  {
   "cell_type": "code",
   "execution_count": 8,
   "metadata": {
    "collapsed": true
   },
   "outputs": [],
   "source": [
    "tree.draw()\n"
   ]
  }
 ],
 "metadata": {
  "kernelspec": {
   "display_name": "Python 2",
   "language": "python",
   "name": "python2"
  },
  "language_info": {
   "codemirror_mode": {
    "name": "ipython",
    "version": 2
   },
   "file_extension": ".py",
   "mimetype": "text/x-python",
   "name": "python",
   "nbconvert_exporter": "python",
   "pygments_lexer": "ipython2",
   "version": "2.7.12"
  }
 },
 "nbformat": 4,
 "nbformat_minor": 2
}
