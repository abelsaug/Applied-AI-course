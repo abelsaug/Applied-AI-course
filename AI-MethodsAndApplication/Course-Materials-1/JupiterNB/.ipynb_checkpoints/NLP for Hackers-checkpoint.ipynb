{
 "cells": [
  {
   "cell_type": "markdown",
   "metadata": {},
   "source": [
    "# NLTK Introduction"
   ]
  },
  {
   "cell_type": "markdown",
   "metadata": {},
   "source": [
    "## Brief Tutorial"
   ]
  },
  {
   "cell_type": "markdown",
   "metadata": {},
   "source": [
    "## Natural Language Processing with NLTK"
   ]
  },
  {
   "cell_type": "markdown",
   "metadata": {},
   "source": [
    "NLTK is well organized and plays well with the NLP Pyramid."
   ]
  },
  {
   "cell_type": "markdown",
   "metadata": {},
   "source": [
    "Here’s an example of quickly passing through the first 3 levels of the NLP Pyramid:"
   ]
  },
  {
   "cell_type": "code",
   "execution_count": 6,
   "metadata": {},
   "outputs": [
    {
     "name": "stdout",
     "output_type": "stream",
     "text": [
      "['John', 'works', 'at', 'Intel', '.']\n",
      "[('John', 'NNP'), ('works', 'VBZ'), ('at', 'IN'), ('Intel', 'NNP'), ('.', '.')]\n",
      "(S (PERSON John/NNP) works/VBZ at/IN (ORGANIZATION Intel/NNP) ./.)\n"
     ]
    }
   ],
   "source": [
    "from nltk import word_tokenize, pos_tag, ne_chunk\n",
    "text = \"John works at Intel.\"  # str\n",
    "# Morphology Level\n",
    "tokens = word_tokenize(text)\n",
    "print tokens                   # [str]\n",
    "# ['John', 'works', 'at', 'Intel', '.']\n",
    "# Syntax Level\n",
    "tagged_tokens = pos_tag(tokens)\n",
    "print tagged_tokens            # [(str, tag)]\n",
    "# [('John', 'NNP'), ('works', 'VBZ'), ('at', 'IN'), ('Intel', 'NNP'), ('.', '.')]\n",
    "# Semantics Level\n",
    "ner_tree = ne_chunk(tagged_tokens)\n",
    "print ner_tree                 # nltk.Tree\n",
    "# (S (PERSON John/NNP) works/VBZ at/IN (ORGANIZATION Intel/NNP) ./.)"
   ]
  },
  {
   "cell_type": "markdown",
   "metadata": {},
   "source": [
    "## Quick peek with nltk.Text"
   ]
  },
  {
   "cell_type": "markdown",
   "metadata": {},
   "source": [
    "When doing information extraction or text transformation, nltk.Text might come in handy. Here are a few shortcuts to getting some quick insights from the text:"
   ]
  },
  {
   "cell_type": "code",
   "execution_count": 7,
   "metadata": {},
   "outputs": [
    {
     "name": "stdout",
     "output_type": "stream",
     "text": [
      "mln dlrs; cts Net; Avg shrs; NET Shr; 4TH QTR; last year; United\n",
      "States; per share; billion dlrs; 000 Revs; QTR NET; New York; 3RD QTR;\n",
      "Qtly div; 1ST QTR; 000 dlrs; Oper shr; 000 tonnes; Nine mths; mln stg\n",
      "april march friday february january\n",
      "since_a in_because last_when between_and last_that and_at on_it\n",
      "from_to in_u last_the by_three in_when on_and from_on announced_it\n",
      "and_and in_to on_the in_they for_he\n",
      "Displaying 25 of 240 matches:\n",
      "said . Trade Minister Saleh said on Monday that Indonesia , as the world ' s s\n",
      "Reuters to clarify his statement on Monday in which he said the pact should be\n",
      " the 11 - member CPA which began on Monday . They said producers agreed that c\n",
      "ief Burkhard Junger was arrested on Monday on suspicion of embezzlement and of\n",
      "ween one and 1 . 25 billion dlrs on Monday and Tuesday . The spokesman said Mo\n",
      "ay and Tuesday . The spokesman said Monday ' s float included 500 mln dlrs in \n",
      "s ranged from minus 500 mln dlrs on Monday , when cash letter errors at two ea\n",
      " a deficit on Thursday , Friday and Monday but held excess reserves on the fin\n",
      "ed temporary reserves indirectly on Monday via two billion dlrs of customer re\n",
      "ssets to secure the judgment . Last Monday , the Supreme Court overturned a de\n",
      " Central Bank were higher than last Monday ' s offering , the bank said . The \n",
      " to 98 . 39844 from 98 . 45313 last Monday . Like - dated interbank deposits w\n",
      "e under fresh scrutiny from today ( Monday ), with activity in the European an\n",
      "ose from an unfavorable ruling last Monday by the U . S . Supreme Court in Tex\n",
      "could ,\" Elton said . But following Monday ' s Supreme Court ruling , Texaco '\n",
      "ould come under fresh scrutiny from Monday , with activity in the European and\n",
      "and Trade Minister Rha Woong Bae on Monday to discuss opening South Korean mar\n",
      "oleum Intelligence Weekly , in this Monday ' s edition , said negotiations are\n",
      "nced May 20 , rose another 50 cents Monday to 8 . 375 a share in over - the - \n",
      "ment Marketing were up 12 . 5 cents Monday to 9 . 50 . FIRST UNION & lt ; FUNC\n",
      "tinue to raise U . S . oil prices . Monday , after Texaco confirmed that the p\n",
      "tinue to raise U . S . oil prices . Monday , after Texaco confirmed that the p\n",
      "s . The offer , which will begin on Monday and ends June 30 , requires that th\n",
      "ts two - week public flotation last Monday . The government has carried out ei\n",
      " a U . S . Court in Orlando , Fla . Monday . The company has sought a declarat\n"
     ]
    }
   ],
   "source": [
    "from nltk import Text\n",
    "from nltk.corpus import reuters\n",
    "text = Text(reuters.words())\n",
    "# Get the collocations that don't contain stop-words\n",
    "text.collocations() \n",
    "# United States; New York; per cent; Rhode Island; years ago; Los Angeles; White House; ...\n",
    "# Get words that appear in similar contexts\n",
    "text.similar('Monday', 5) \n",
    "# april march friday february january\n",
    "# Get common contexts for a list of words\n",
    "text.common_contexts(['August', 'June']) \n",
    "# since_a in_because last_when between_and last_that and_at ...\n",
    "# Get contexts for a word\n",
    "text.concordance('Monday')\n",
    "# said . Trade Minister Saleh said on Monday that Indonesia , as the world ' s s\n",
    "# Reuters to clarify his statement on Monday in which he said the pact should be\n",
    "#  the 11 - member CPA which began on Monday . They said producers agreed that c\n",
    "# ief Burkhard Junger was arrested on Monday on suspicion of embezzlement and of\n",
    "# ween one and 1 . 25 billion dlrs on Monday and Tuesday . The spokesman said Mo\n",
    "# ay and Tuesday . The spokesman said Monday ' s float included 500 mln dlrs in "
   ]
  }
 ],
 "metadata": {
  "kernelspec": {
   "display_name": "Python 2",
   "language": "python",
   "name": "python2"
  },
  "language_info": {
   "codemirror_mode": {
    "name": "ipython",
    "version": 2
   },
   "file_extension": ".py",
   "mimetype": "text/x-python",
   "name": "python",
   "nbconvert_exporter": "python",
   "pygments_lexer": "ipython2",
   "version": "2.7.12"
  }
 },
 "nbformat": 4,
 "nbformat_minor": 2
}
