{
 "cells": [
  {
   "cell_type": "markdown",
   "metadata": {},
   "source": [
    "# Homework 1: Setup and Prerequisites\n",
    "\n",
    "UIC CS 412, Spring 2018\n",
    "\n",
    "This assignment goes over prerequisites to taking CS 412.\n",
    "\n",
    "* How to set up Jupyter on your own computer.\n",
    "* Python basics, like defining functions.\n",
    "* How to use the numpy library to compute with arrays of numbers.\n",
    "* Matrix expressions.\n",
    "\n",
    "If you have discussed this assignment with anyone, please state their name(s) here: [NAME] (double click on this cell to turn into edit mode and change \"NAME\" to the names of your collaborators).\n",
    "\n",
    "## Due Date\n",
    "\n",
    "This assignment is due at 11:59pm Tuesday, January 30th. Instructions for submission are at the bottom of this assignment."
   ]
  },
  {
   "cell_type": "markdown",
   "metadata": {},
   "source": [
    "## Prerequisites\n",
    "\n",
    "### Running a Cell\n",
    "\n",
    "Try running the following cell.  If you unfamiliar with Jupyter Notebooks consider skimming [this tutorial](http://nbviewer.jupyter.org/github/jupyter/notebook/blob/master/docs/source/examples/Notebook/Notebook%20Basics.ipynb) or selecting **Help -> User Interface Tour** in the menu above. "
   ]
  },
  {
   "cell_type": "code",
   "execution_count": 1,
   "metadata": {},
   "outputs": [
    {
     "name": "stdout",
     "output_type": "stream",
     "text": [
      "Hello, world!\n"
     ]
    }
   ],
   "source": [
    "print(\"Hello, world!\")"
   ]
  },
  {
   "cell_type": "markdown",
   "metadata": {},
   "source": [
    "**Jupyter pro-tip**: Even if you are familiar with Jupyter, we strongly encourage you to become proficient with keyboard shortcuts (this will save you time in the future). To learn about keyboard shortcuts go to Help -> Keyboard Shortcuts in the menu above. Our favorite shortcut is Ctrl+Enter which runs a cell. We also recommend creating a shortcut for clearing a cell's output by going to Help -> Edit Keyboard Shortcuts and entering \"Ctrl-o\" for \"clear cell output\". \n",
    "\n",
    "## Testing your Setup\n",
    "If you've set up your environment properly, this cell should run without problems:"
   ]
  },
  {
   "cell_type": "code",
   "execution_count": 1,
   "metadata": {},
   "outputs": [],
   "source": [
    "import math\n",
    "import numpy as np\n",
    "import matplotlib\n",
    "%matplotlib inline\n",
    "import matplotlib.pyplot as plt\n",
    "plt.style.use('fivethirtyeight')\n",
    "import pandas as pd"
   ]
  },
  {
   "cell_type": "markdown",
   "metadata": {},
   "source": [
    "### Python\n",
    "\n",
    "Python is the main programming language we will use in the course. Run each cell below and make sure you understand what is happening in each.\n",
    "\n",
    "If this seems difficult, please review one or more of the following materials.\n",
    "\n",
    "- **[Python Tutorial](https://docs.python.org/3.5/tutorial/)**: Introduction to Python from the creators of Python\n",
    "- **[Composing Programs Chapter 1](http://composingprograms.com/pages/11-getting-started.html)**: This is more of a introduction to programming with Python.\n",
    "- **[Advanced Crash Course](http://cs231n.github.io/python-numpy-tutorial/)**: A fast crash course which assumes some programming background.\n",
    "\n",
    "#### Mathematical expressions"
   ]
  },
  {
   "cell_type": "code",
   "execution_count": 3,
   "metadata": {},
   "outputs": [
    {
     "data": {
      "text/plain": [
       "0.3427354792736325"
      ]
     },
     "execution_count": 3,
     "metadata": {},
     "output_type": "execute_result"
    }
   ],
   "source": [
    "# This is a comment.\n",
    "# In Python, the ** operator performs exponentiation.\n",
    "math.sqrt(math.e ** (-math.pi + 1))"
   ]
  },
  {
   "cell_type": "markdown",
   "metadata": {},
   "source": [
    "#### Printing"
   ]
  },
  {
   "cell_type": "code",
   "execution_count": 4,
   "metadata": {},
   "outputs": [
    {
     "name": "stdout",
     "output_type": "stream",
     "text": [
      "('Hello,', 'world!')\n"
     ]
    },
    {
     "data": {
      "text/plain": [
       "'Hello, celloutput!'"
      ]
     },
     "execution_count": 4,
     "metadata": {},
     "output_type": "execute_result"
    }
   ],
   "source": [
    "\"Why didn't this line print?\"\n",
    "\n",
    "print(\"Hello\" + \",\", \"world!\")\n",
    "\n",
    "\"Hello, cell\" + \"output!\""
   ]
  },
  {
   "cell_type": "markdown",
   "metadata": {},
   "source": [
    "#### For Loops"
   ]
  },
  {
   "cell_type": "code",
   "execution_count": 5,
   "metadata": {},
   "outputs": [
    {
     "name": "stdout",
     "output_type": "stream",
     "text": [
      "1\n",
      "Odd power of 2\n",
      "4\n",
      "Odd power of 2\n",
      "16\n"
     ]
    }
   ],
   "source": [
    "# A for loop repeats a block of code once for each\n",
    "# element in a given collection.\n",
    "for i in range(5):\n",
    "    if i % 2 == 0:  \n",
    "        print(2**i)\n",
    "    else:\n",
    "        print(\"Odd power of 2\")"
   ]
  },
  {
   "cell_type": "markdown",
   "metadata": {},
   "source": [
    "#### List comprehension"
   ]
  },
  {
   "cell_type": "code",
   "execution_count": 6,
   "metadata": {},
   "outputs": [
    {
     "data": {
      "text/plain": [
       "['1 sheep.', '2 sheep.', '3 sheep.', '4 sheep.']"
      ]
     },
     "execution_count": 6,
     "metadata": {},
     "output_type": "execute_result"
    }
   ],
   "source": [
    "[str(i) + \" sheep.\" for i in range(1,5)] "
   ]
  },
  {
   "cell_type": "code",
   "execution_count": 7,
   "metadata": {},
   "outputs": [
    {
     "data": {
      "text/plain": [
       "[0, 2, 4, 6, 8]"
      ]
     },
     "execution_count": 7,
     "metadata": {},
     "output_type": "execute_result"
    }
   ],
   "source": [
    "[i for i in range(10) if i % 2 == 0]"
   ]
  },
  {
   "cell_type": "markdown",
   "metadata": {},
   "source": [
    "#### Defining functions"
   ]
  },
  {
   "cell_type": "code",
   "execution_count": 8,
   "metadata": {},
   "outputs": [],
   "source": [
    "def add2(x):\n",
    "    \"\"\"This docstring explains what this function does: it adds 2 to a number.\"\"\"\n",
    "    return x + 2"
   ]
  },
  {
   "cell_type": "markdown",
   "metadata": {},
   "source": [
    "#### Getting help"
   ]
  },
  {
   "cell_type": "code",
   "execution_count": 9,
   "metadata": {},
   "outputs": [
    {
     "name": "stdout",
     "output_type": "stream",
     "text": [
      "Help on function add2 in module __main__:\n",
      "\n",
      "add2(x)\n",
      "    This docstring explains what this function does: it adds 2 to a number.\n",
      "\n"
     ]
    }
   ],
   "source": [
    "help(add2)"
   ]
  },
  {
   "cell_type": "code",
   "execution_count": 10,
   "metadata": {},
   "outputs": [],
   "source": [
    "add2?"
   ]
  },
  {
   "cell_type": "markdown",
   "metadata": {},
   "source": [
    "You can close the window at the bottom by pressing esc.\n",
    "\n",
    "#### Passing functions as values"
   ]
  },
  {
   "cell_type": "code",
   "execution_count": 11,
   "metadata": {},
   "outputs": [
    {
     "data": {
      "text/plain": [
       "7"
      ]
     },
     "execution_count": 11,
     "metadata": {},
     "output_type": "execute_result"
    }
   ],
   "source": [
    "def makeAdder(amount):\n",
    "    \"\"\"Make a function that adds the given amount to a number.\"\"\"\n",
    "    def addAmount(x):\n",
    "        return x + amount\n",
    "    return addAmount\n",
    "\n",
    "add3 = makeAdder(3)\n",
    "add3(4)"
   ]
  },
  {
   "cell_type": "code",
   "execution_count": 12,
   "metadata": {},
   "outputs": [
    {
     "data": {
      "text/plain": [
       "7"
      ]
     },
     "execution_count": 12,
     "metadata": {},
     "output_type": "execute_result"
    }
   ],
   "source": [
    "makeAdder(3)(4)"
   ]
  },
  {
   "cell_type": "markdown",
   "metadata": {},
   "source": [
    "#### Anonymous Functions and Lambdas"
   ]
  },
  {
   "cell_type": "code",
   "execution_count": 13,
   "metadata": {},
   "outputs": [
    {
     "data": {
      "text/plain": [
       "9"
      ]
     },
     "execution_count": 13,
     "metadata": {},
     "output_type": "execute_result"
    }
   ],
   "source": [
    "# add4 is very similar to add2, but it's been created using a lambda expression.\n",
    "add4 = lambda x: x + 4\n",
    "add4(5)"
   ]
  },
  {
   "cell_type": "markdown",
   "metadata": {},
   "source": [
    "#### Recursion"
   ]
  },
  {
   "cell_type": "code",
   "execution_count": 14,
   "metadata": {},
   "outputs": [
    {
     "data": {
      "text/plain": [
       "13"
      ]
     },
     "execution_count": 14,
     "metadata": {},
     "output_type": "execute_result"
    }
   ],
   "source": [
    "def fib(n):\n",
    "    if n <= 1:\n",
    "        return 1\n",
    "    else:\n",
    "        # Functions can call themselves recursively.\n",
    "        return fib(n-1) + fib(n-2)\n",
    "\n",
    "fib(6)"
   ]
  },
  {
   "cell_type": "markdown",
   "metadata": {},
   "source": [
    "### NumPy and Tables\n",
    "\n",
    "The `NumPy` library lets us do fast, simple computing with numbers in Python. \n",
    "\n",
    "You should be able to understand the code in the following cells. If not, review the following:\n",
    "\n",
    "* [DS100 Numpy Review](http://ds100.org/fa17/assets/notebooks/numpy/Numpy_Review.html)\n",
    "* [Condensed Numpy Review](http://cs231n.github.io/python-numpy-tutorial/#numpy)\n",
    "* [The Official Numpy Tutorial](https://docs.scipy.org/doc/numpy-dev/user/quickstart.html)\n",
    "\n",
    "**Jupyter pro-tip**: Pull up the docs for any function in Jupyter by running a cell with\n",
    "the function name and a `?` at the end:"
   ]
  },
  {
   "cell_type": "code",
   "execution_count": 15,
   "metadata": {},
   "outputs": [],
   "source": [
    "np.arange?"
   ]
  },
  {
   "cell_type": "markdown",
   "metadata": {},
   "source": [
    "**Jupyter pro-tip**: Pull up the docs for any function in Jupyter by typing the function\n",
    "name, then `<Shift>-<Tab>` on your keyboard. Super convenient when you forget the order\n",
    "of the arguments to a function. You can press `<Tab>` multiple tabs to expand the docs.\n",
    "\n",
    "Try it on the function below:"
   ]
  },
  {
   "cell_type": "code",
   "execution_count": 16,
   "metadata": {},
   "outputs": [],
   "source": [
    "np.linspace?"
   ]
  },
  {
   "cell_type": "markdown",
   "metadata": {},
   "source": [
    "You can use the tips above to help you deciper the following code."
   ]
  },
  {
   "cell_type": "code",
   "execution_count": 17,
   "metadata": {},
   "outputs": [
    {
     "data": {
      "text/plain": [
       "0"
      ]
     },
     "execution_count": 17,
     "metadata": {},
     "output_type": "execute_result"
    }
   ],
   "source": [
    "# Let's take a 20-sided die...\n",
    "NUM_FACES = 20\n",
    "\n",
    "# ...and roll it 4 times\n",
    "rolls = 4\n",
    "\n",
    "# What's the probability that all 4 rolls are different? It's:\n",
    "# 20/20 * 19/20 * 18/20 * 17/20\n",
    "prob_diff = np.prod((NUM_FACES - np.arange(rolls))\n",
    "                    / NUM_FACES)\n",
    "prob_diff"
   ]
  },
  {
   "cell_type": "code",
   "execution_count": 18,
   "metadata": {},
   "outputs": [
    {
     "data": {
      "text/plain": [
       "array([1, 0, 0, 0, 0])"
      ]
     },
     "execution_count": 18,
     "metadata": {},
     "output_type": "execute_result"
    }
   ],
   "source": [
    "# Let's compute that probability for 1 roll, 2 rolls, ..., 20 rolls.\n",
    "# The array ys will contain:\n",
    "# \n",
    "# 20/20\n",
    "# 20/20 * 19/20\n",
    "# 20/20 * 18/20\n",
    "# ...\n",
    "# 20/20 * 19/20 * ... * 1/20\n",
    "\n",
    "xs = np.arange(20)\n",
    "ys = np.cumprod((NUM_FACES - xs) / NUM_FACES)\n",
    "\n",
    "# Python slicing works on arrays too\n",
    "ys[:5]"
   ]
  },
  {
   "cell_type": "code",
   "execution_count": 19,
   "metadata": {},
   "outputs": [
    {
     "data": {
      "text/plain": [
       "<matplotlib.text.Text at 0x7f9bb58e4050>"
      ]
     },
     "execution_count": 19,
     "metadata": {},
     "output_type": "execute_result"
    },
    {
     "data": {
      "image/png": "[encoded data removed]",
      "text/plain": [
       "<matplotlib.figure.Figure at 0x7f9bb81b0650>"
      ]
     },
     "metadata": {},
     "output_type": "display_data"
    }
   ],
   "source": [
    "plt.plot(xs, ys, 'o-')\n",
    "plt.xlabel(\"Num Rolls\")\n",
    "plt.ylabel('P(all different)')\n"
   ]
  },
  {
   "cell_type": "markdown",
   "metadata": {},
   "source": [
    "## Question 1\n",
    "\n",
    "#### Question 1a\n",
    "Write a function prime_nums_reversed that takes in an integer `n` and returns a string\n",
    "containing all prime numbers between 1 and `n` in reverse order, separated\n",
    "by spaces. For example:\n",
    "\n",
    "    >>> prime_nums_reversed(5)\n",
    "    '5 3 2'\n",
    "\n",
    "***Note:*** The ellipsis (`...`) indicates something you should fill in.  It *doesn't* necessarily imply you should replace it with only one line of code.\n",
    "\n",
    "***Complete the following block of code:***"
   ]
  },
  {
   "cell_type": "code",
   "execution_count": 7,
   "metadata": {},
   "outputs": [
    {
     "name": "stdout",
     "output_type": "stream",
     "text": [
      "5 3 2 \n"
     ]
    }
   ],
   "source": [
    "def prime_nums_reversed(n):\n",
    "    def isPrime(string1,N):\n",
    "        notPrime = 0\n",
    "        for i in range(2,N):\n",
    "            if N%i == 0:\n",
    "                notPrime = 1\n",
    "        if notPrime == 0:\n",
    "            return string1 + str(N) + \" \"\n",
    "        return string1\n",
    "    string1 = \"\"\n",
    "    while(n>1):\n",
    "        string1 = isPrime(string1,n)\n",
    "        n = n-1\n",
    "    return string1"
   ]
  },
  {
   "cell_type": "markdown",
   "metadata": {},
   "source": [
    "#### Question 1b\n",
    "\n",
    "Write a function `string_explosion` that takes in a non-empty string like\n",
    "`\"Code\"` and returns a long string containing every suffix of the input.\n",
    "For example:\n",
    "\n",
    "    >>> string_explosion('Code')\n",
    "    'Codeodedee'\n",
    "    >>> string_explosion('data!')\n",
    "    'data!ata!ta!a!!'\n",
    "    >>> string_explosion('hi')\n",
    "    'hii'\n",
    "\n",
    "**Hint:** Try to use recursion. Think about how you might answering the following two questions:\n",
    "1. **[Base Case]** What is the `string_explosion` of the empty string?\n",
    "1. **[Inductive Step]** If you had a `string_explosion` function for the last $n-1$ characters of your string how could you extend it to the $1^{st}$ character? For example, `string_explosion(\"ode\") = \"odedee\"` becomes `string_explosion(\"Code\") = \"Codeodedee\"`.\n",
    "\n",
    "***Complete the following block of code:***"
   ]
  },
  {
   "cell_type": "code",
   "execution_count": 8,
   "metadata": {},
   "outputs": [
    {
     "name": "stdout",
     "output_type": "stream",
     "text": [
      "codeodedee\n"
     ]
    }
   ],
   "source": [
    "def string_explosion(string):\n",
    "    if not string:\n",
    "        return \"\"\n",
    "    str = string\n",
    "    string = string[1:]\n",
    "    return str + string_explosion(string)"
   ]
  },
  {
   "cell_type": "markdown",
   "metadata": {},
   "source": [
    "#### Question 1c\n",
    "\n",
    "Write a function `consecutive` that takes in a list of integers\n",
    "and returns `True` only if the list has two numbers whose difference is 1 next to each other (i.e., n and n+1).\n",
    "\n",
    "    >>> consecutive([50, 34, 3, 15])\n",
    "    False\n",
    "    >>> consecutive([7, 3, 20, 21, 8])\n",
    "    True\n",
    "\n",
    "***Complete the following block of code:***"
   ]
  },
  {
   "cell_type": "code",
   "execution_count": 9,
   "metadata": {},
   "outputs": [
    {
     "name": "stdout",
     "output_type": "stream",
     "text": [
      "True\n"
     ]
    }
   ],
   "source": [
    "def consecutive(nums):\n",
    "    i=0\n",
    "    for element in nums[:-1]:\n",
    "        i+=1\n",
    "        if element == nums[i]-1 or element == nums[i]+1:\n",
    "            return True\n",
    "    return False"
   ]
  },
  {
   "cell_type": "markdown",
   "metadata": {},
   "source": [
    "### Question 2\n",
    "\n",
    "In this question, we'll ask you to use your linear algebra knowledge to fill in NumPy matrices. To conduct matrix multiplication in NumPy, you should write code like the following:\n"
   ]
  },
  {
   "cell_type": "code",
   "execution_count": 25,
   "metadata": {},
   "outputs": [
    {
     "data": {
      "text/plain": [
       "array([[ 76,  82],\n",
       "       [184, 199]])"
      ]
     },
     "execution_count": 25,
     "metadata": {},
     "output_type": "execute_result"
    }
   ],
   "source": [
    "# A matrix in NumPy is simply a 2-dimensional NumPy array\n",
    "matA = np.array([\n",
    "    [1, 2, 3],\n",
    "    [4, 5, 6],\n",
    "])\n",
    "\n",
    "matB = np.array([\n",
    "    [10, 11],\n",
    "    [12, 13],\n",
    "    [14, 15],\n",
    "])\n",
    "\n",
    "# The notation B @ v means: compute the matrix multiplication Bv\n",
    "matA @ matB"
   ]
  },
  {
   "cell_type": "markdown",
   "metadata": {},
   "source": [
    "You can also use the same syntax to do matrix-vector multiplication or vector dot products."
   ]
  },
  {
   "cell_type": "code",
   "execution_count": 24,
   "metadata": {},
   "outputs": [
    {
     "name": "stdout",
     "output_type": "stream",
     "text": [
      "[ 76 184]\n",
      "760\n"
     ]
    }
   ],
   "source": [
    "matA = np.array([\n",
    "    [1, 2, 3],\n",
    "    [4, 5, 6],\n",
    "])\n",
    "\n",
    "# A vector in NumPy is simply a 1-dimensional NumPy array\n",
    "some_vec = np.array([ 10, 12, 14, ])\n",
    "\n",
    "another_vec = np.array([ 10, 20, 30 ])\n",
    "print(matA @ some_vec)\n",
    "print(some_vec @ another_vec)"
   ]
  },
  {
   "cell_type": "markdown",
   "metadata": {},
   "source": [
    "#### Question 2a\n",
    "\n",
    "Bob, Daniela, and Luke are shopping for fruit at a store that only sells fruit bowls. A fruit bowl contains some fruit and the price of a fruit bowl is the total price of all of its individual fruit.\n",
    "\n",
    "The store has mangos for \\$1.00, strawberries \\$3.00, and apricots \\$5.00. The price of each of these can be written in a vector:\n",
    "\n",
    "$$\n",
    "\\vec{v} = \\begin{bmatrix}\n",
    "     1 \\\\\n",
    "     3 \\\\\n",
    "     5 \\\\\n",
    "\\end{bmatrix}\n",
    "$$\n",
    "\n",
    "The store sells the following fruit bowls:\n",
    "\n",
    "#1: 3 of each fruit\n",
    "#2: 2 mangos and 8 apricots\n",
    "#3: 5 strawberries and 3 apricots\n",
    "#4: 10 apricots\n",
    "\n",
    "Create a 2-dimensional numpy array encoding the matrix $B$ such that the matrix-vector multiplication\n",
    "\n",
    "$$\n",
    "B\\vec{v}\n",
    "$$\n",
    "\n",
    "evaluates to a length 4 column vector containing the price of each fruit bowl. The first entry of the result should be the cost of fruit bowl #1, the second entry the cost of fruit bowl #2, etc.\n",
    "\n",
    "***Complete the following block of code:***"
   ]
  },
  {
   "cell_type": "code",
   "execution_count": 23,
   "metadata": {},
   "outputs": [],
   "source": [
    "v = np.array([1,3,5])\n",
    "\n",
    "def bowl_cost(v):\n",
    "    B = np.array([[3,3,3],[2,0,8],[0,5,3],[0,0,10]])\n",
    "\n",
    "    # The notation B @ v means: compute the matrix multiplication Bv\n",
    "    return B @ v "
   ]
  },
  {
   "cell_type": "markdown",
   "metadata": {},
   "source": [
    "#### Question 2b\n",
    "\n",
    "Bob, Daniela, and Luke make the following purchases:\n",
    "\n",
    "- Bob buys 2 fruit bowl #1's and 1 fruit bowl #3.\n",
    "- Daniela buys 1 of each fruit bowl.\n",
    "- Luke buys 10 fruit bowl #4s (he really likes apricots).\n",
    "\n",
    "Create a matrix $A$ such that the matrix expression\n",
    "\n",
    "$$\n",
    "AB\\vec{v}\n",
    "$$\n",
    "\n",
    "evaluates to a length 3 column vector containing how much each of them spent. The first entry of the result should be the total amount spent by Bob, the second entry the amount sent by Daniela, etc.\n",
    "\n",
    "***Complete the following block of code:***"
   ]
  },
  {
   "cell_type": "code",
   "execution_count": 22,
   "metadata": {},
   "outputs": [],
   "source": [
    "def amount_spent(v, B):\n",
    "    A = np.array([\n",
    "        [2, 0, 1, 0],[1,1,1,1],[0,0,0,10]\n",
    "    ])\n",
    "    return A @ B @ v "
   ]
  },
  {
   "cell_type": "markdown",
   "metadata": {},
   "source": [
    "#### Question 2c\n",
    "\n",
    "Let's suppose the store changes their fruit prices, but you don't know what they changed their prices to. Bob, Daniela, and Luke buy the same quantity of fruit baskets and the number of fruit in each basket is the same, but now they each spent these amounts:\n",
    "\n",
    "$$\n",
    "\\vec{x} = \\begin{bmatrix}\n",
    "    80 \\\\\n",
    "    80 \\\\\n",
    "    100 \\\\\n",
    "\\end{bmatrix}\n",
    "$$\n",
    "\n",
    "Use `np.linalg.inv` and the above final costs to compute the new prices for the individual fruits.\n",
    "\n",
    "***Complete the following block of code:***"
   ]
  },
  {
   "cell_type": "code",
   "execution_count": 21,
   "metadata": {},
   "outputs": [],
   "source": [
    "def new_price(A, B, x):\n",
    "    # Finish this!\n",
    "    new_v = np.linalg.inv(A @ B) @ x\n",
    "    return new_v "
   ]
  },
  {
   "cell_type": "markdown",
   "metadata": {},
   "source": [
    "# Submission\n",
    "\n",
    "You're almost done! \n",
    "\n",
    "Next, you need to copy the functions from Questions 1 and 2 into the corresponding functions in *hw1.py*. In order to get full points for this homework assignment, you need to pass all hidden test cases that we will run against your *hw1.py* (and not the notebook) on the server. To check whether your code runs locally, run the two tests in *tests_sample* from your command line: "
   ]
  },
  {
   "cell_type": "code",
   "execution_count": null,
   "metadata": {},
   "outputs": [],
   "source": [
    "(cs412) elena-macbook:hw1 elena$ python run_tests_sample.py"
   ]
  },
  {
   "cell_type": "markdown",
   "metadata": {},
   "source": [
    "You should see the following output:"
   ]
  },
  {
   "cell_type": "code",
   "execution_count": null,
   "metadata": {},
   "outputs": [],
   "source": [
    "..\n",
    "----------------------------------------------------------------------\n",
    "Ran 2 tests in 0.001s\n",
    "\n",
    "OK"
   ]
  },
  {
   "cell_type": "markdown",
   "metadata": {},
   "source": [
    "Feel free to add more tests that check all parts of your code.\n",
    "\n",
    "Place your files *hw1.py* and *hw1.ipynb* in a zip file and upload the zip file to Gradescope under \"Homework 1\". You can submit it as many times as you would like. We will only consider your last submission. If your last submission is after the deadline, the late homework policy applies.\n",
    "\n",
    "After submitting the zip file, you should see the following on your screen:\n",
    "\n",
    "<img src=\"correct.png\" align=\"left\" float=\"left\"/>\n",
    "\n",
    "\n",
    "This indicates that two of the tests ran successfully on the server, and you're done!"
   ]
  },
  {
   "cell_type": "code",
   "execution_count": null,
   "metadata": {},
   "outputs": [],
   "source": []
  }
 ],
 "metadata": {
  "kernelspec": {
   "display_name": "Python 3",
   "language": "python",
   "name": "python3"
  },
  "language_info": {
   "codemirror_mode": {
    "name": "ipython",
    "version": 3
   },
   "file_extension": ".py",
   "mimetype": "text/x-python",
   "name": "python",
   "nbconvert_exporter": "python",
   "pygments_lexer": "ipython3",
   "version": "3.5.2"
  }
 },
 "nbformat": 4,
 "nbformat_minor": 2
}
